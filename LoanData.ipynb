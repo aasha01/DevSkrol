{
 "cells": [
  {
   "cell_type": "code",
   "execution_count": 2,
   "metadata": {},
   "outputs": [],
   "source": [
    "import pandas as pd\n",
    "import numpy as np\n",
    "import matplotlib.pyplot as plt\n",
    "%matplotlib inline\n",
    "from sklearn.preprocessing import StandardScaler\n",
    "from sklearn.linear_model import LogisticRegression\n",
    "from sklearn.tree import DecisionTreeClassifier\n",
    "from sklearn.model_selection import train_test_split\n",
    "from sklearn.metrics import accuracy_score\n",
    "from sklearn.preprocessing import PolynomialFeatures\n",
    "import warnings\n",
    "warnings.filterwarnings(\"ignore\")\n",
    "np.random.seed(42)\n"
   ]
  },
  {
   "cell_type": "code",
   "execution_count": 16,
   "metadata": {},
   "outputs": [],
   "source": [
    "df = pd.read_csv(\"loan_data.csv\")\n",
    "y = df.pop(\"not.fully.paid\")"
   ]
  },
  {
   "cell_type": "code",
   "execution_count": 17,
   "metadata": {},
   "outputs": [
    {
     "data": {
      "text/html": [
       "<div>\n",
       "<style scoped>\n",
       "    .dataframe tbody tr th:only-of-type {\n",
       "        vertical-align: middle;\n",
       "    }\n",
       "\n",
       "    .dataframe tbody tr th {\n",
       "        vertical-align: top;\n",
       "    }\n",
       "\n",
       "    .dataframe thead th {\n",
       "        text-align: right;\n",
       "    }\n",
       "</style>\n",
       "<table border=\"1\" class=\"dataframe\">\n",
       "  <thead>\n",
       "    <tr style=\"text-align: right;\">\n",
       "      <th></th>\n",
       "      <th>credit.policy</th>\n",
       "      <th>purpose</th>\n",
       "      <th>int.rate</th>\n",
       "      <th>installment</th>\n",
       "      <th>log.annual.inc</th>\n",
       "      <th>dti</th>\n",
       "      <th>fico</th>\n",
       "      <th>days.with.cr.line</th>\n",
       "      <th>revol.bal</th>\n",
       "      <th>revol.util</th>\n",
       "      <th>inq.last.6mths</th>\n",
       "      <th>delinq.2yrs</th>\n",
       "      <th>pub.rec</th>\n",
       "    </tr>\n",
       "  </thead>\n",
       "  <tbody>\n",
       "    <tr>\n",
       "      <th>0</th>\n",
       "      <td>1</td>\n",
       "      <td>debt_consolidation</td>\n",
       "      <td>0.1189</td>\n",
       "      <td>829.10</td>\n",
       "      <td>11.350407</td>\n",
       "      <td>19.48</td>\n",
       "      <td>737</td>\n",
       "      <td>5639.958333</td>\n",
       "      <td>28854</td>\n",
       "      <td>52.1</td>\n",
       "      <td>0</td>\n",
       "      <td>0</td>\n",
       "      <td>0</td>\n",
       "    </tr>\n",
       "    <tr>\n",
       "      <th>1</th>\n",
       "      <td>1</td>\n",
       "      <td>credit_card</td>\n",
       "      <td>0.1071</td>\n",
       "      <td>228.22</td>\n",
       "      <td>11.082143</td>\n",
       "      <td>14.29</td>\n",
       "      <td>707</td>\n",
       "      <td>2760.000000</td>\n",
       "      <td>33623</td>\n",
       "      <td>76.7</td>\n",
       "      <td>0</td>\n",
       "      <td>0</td>\n",
       "      <td>0</td>\n",
       "    </tr>\n",
       "    <tr>\n",
       "      <th>2</th>\n",
       "      <td>1</td>\n",
       "      <td>debt_consolidation</td>\n",
       "      <td>0.1357</td>\n",
       "      <td>366.86</td>\n",
       "      <td>10.373491</td>\n",
       "      <td>11.63</td>\n",
       "      <td>682</td>\n",
       "      <td>4710.000000</td>\n",
       "      <td>3511</td>\n",
       "      <td>25.6</td>\n",
       "      <td>1</td>\n",
       "      <td>0</td>\n",
       "      <td>0</td>\n",
       "    </tr>\n",
       "    <tr>\n",
       "      <th>3</th>\n",
       "      <td>1</td>\n",
       "      <td>debt_consolidation</td>\n",
       "      <td>0.1008</td>\n",
       "      <td>162.34</td>\n",
       "      <td>11.350407</td>\n",
       "      <td>8.10</td>\n",
       "      <td>712</td>\n",
       "      <td>2699.958333</td>\n",
       "      <td>33667</td>\n",
       "      <td>73.2</td>\n",
       "      <td>1</td>\n",
       "      <td>0</td>\n",
       "      <td>0</td>\n",
       "    </tr>\n",
       "    <tr>\n",
       "      <th>4</th>\n",
       "      <td>1</td>\n",
       "      <td>credit_card</td>\n",
       "      <td>0.1426</td>\n",
       "      <td>102.92</td>\n",
       "      <td>11.299732</td>\n",
       "      <td>14.97</td>\n",
       "      <td>667</td>\n",
       "      <td>4066.000000</td>\n",
       "      <td>4740</td>\n",
       "      <td>39.5</td>\n",
       "      <td>0</td>\n",
       "      <td>1</td>\n",
       "      <td>0</td>\n",
       "    </tr>\n",
       "  </tbody>\n",
       "</table>\n",
       "</div>"
      ],
      "text/plain": [
       "   credit.policy             purpose  int.rate  installment  log.annual.inc  \\\n",
       "0              1  debt_consolidation    0.1189       829.10       11.350407   \n",
       "1              1         credit_card    0.1071       228.22       11.082143   \n",
       "2              1  debt_consolidation    0.1357       366.86       10.373491   \n",
       "3              1  debt_consolidation    0.1008       162.34       11.350407   \n",
       "4              1         credit_card    0.1426       102.92       11.299732   \n",
       "\n",
       "     dti  fico  days.with.cr.line  revol.bal  revol.util  inq.last.6mths  \\\n",
       "0  19.48   737        5639.958333      28854        52.1               0   \n",
       "1  14.29   707        2760.000000      33623        76.7               0   \n",
       "2  11.63   682        4710.000000       3511        25.6               1   \n",
       "3   8.10   712        2699.958333      33667        73.2               1   \n",
       "4  14.97   667        4066.000000       4740        39.5               0   \n",
       "\n",
       "   delinq.2yrs  pub.rec  \n",
       "0            0        0  \n",
       "1            0        0  \n",
       "2            0        0  \n",
       "3            0        0  \n",
       "4            1        0  "
      ]
     },
     "execution_count": 17,
     "metadata": {},
     "output_type": "execute_result"
    }
   ],
   "source": [
    "df.head()"
   ]
  },
  {
   "cell_type": "code",
   "execution_count": 18,
   "metadata": {},
   "outputs": [
    {
     "data": {
      "text/plain": [
       "array(['debt_consolidation', 'credit_card', 'all_other',\n",
       "       'home_improvement', 'small_business', 'major_purchase',\n",
       "       'educational'], dtype=object)"
      ]
     },
     "execution_count": 18,
     "metadata": {},
     "output_type": "execute_result"
    }
   ],
   "source": [
    "df['purpose'].unique()"
   ]
  },
  {
   "cell_type": "code",
   "execution_count": 19,
   "metadata": {},
   "outputs": [
    {
     "data": {
      "text/plain": [
       "0       debt_consolidation\n",
       "1              credit_card\n",
       "2       debt_consolidation\n",
       "3       debt_consolidation\n",
       "4              credit_card\n",
       "               ...        \n",
       "9573             all_other\n",
       "9574             all_other\n",
       "9575    debt_consolidation\n",
       "9576      home_improvement\n",
       "9577    debt_consolidation\n",
       "Name: purpose, Length: 9578, dtype: category\n",
       "Categories (7, object): [all_other, credit_card, debt_consolidation, educational, home_improvement, major_purchase, small_business]"
      ]
     },
     "execution_count": 19,
     "metadata": {},
     "output_type": "execute_result"
    }
   ],
   "source": [
    "df['purpose'].astype('category')"
   ]
  },
  {
   "cell_type": "code",
   "execution_count": 20,
   "metadata": {},
   "outputs": [
    {
     "name": "stdout",
     "output_type": "stream",
     "text": [
      "<class 'pandas.core.frame.DataFrame'>\n",
      "RangeIndex: 9578 entries, 0 to 9577\n",
      "Data columns (total 13 columns):\n",
      " #   Column             Non-Null Count  Dtype  \n",
      "---  ------             --------------  -----  \n",
      " 0   credit.policy      9578 non-null   int64  \n",
      " 1   purpose            9578 non-null   object \n",
      " 2   int.rate           9578 non-null   float64\n",
      " 3   installment        9578 non-null   float64\n",
      " 4   log.annual.inc     9578 non-null   float64\n",
      " 5   dti                9578 non-null   float64\n",
      " 6   fico               9578 non-null   int64  \n",
      " 7   days.with.cr.line  9578 non-null   float64\n",
      " 8   revol.bal          9578 non-null   int64  \n",
      " 9   revol.util         9578 non-null   float64\n",
      " 10  inq.last.6mths     9578 non-null   int64  \n",
      " 11  delinq.2yrs        9578 non-null   int64  \n",
      " 12  pub.rec            9578 non-null   int64  \n",
      "dtypes: float64(6), int64(6), object(1)\n",
      "memory usage: 972.9+ KB\n"
     ]
    }
   ],
   "source": [
    "df.info()"
   ]
  },
  {
   "cell_type": "code",
   "execution_count": 21,
   "metadata": {},
   "outputs": [],
   "source": [
    "df_enc = pd.get_dummies(df, columns = ['credit.policy','purpose'])"
   ]
  },
  {
   "cell_type": "code",
   "execution_count": 22,
   "metadata": {},
   "outputs": [
    {
     "data": {
      "text/plain": [
       "int.rate                       249\n",
       "installment                   4788\n",
       "log.annual.inc                1987\n",
       "dti                           2529\n",
       "fico                            44\n",
       "days.with.cr.line             2687\n",
       "revol.bal                     7869\n",
       "revol.util                    1035\n",
       "inq.last.6mths                  28\n",
       "delinq.2yrs                     11\n",
       "pub.rec                          6\n",
       "credit.policy_0                  2\n",
       "credit.policy_1                  2\n",
       "purpose_all_other                2\n",
       "purpose_credit_card              2\n",
       "purpose_debt_consolidation       2\n",
       "purpose_educational              2\n",
       "purpose_home_improvement         2\n",
       "purpose_major_purchase           2\n",
       "purpose_small_business           2\n",
       "dtype: int64"
      ]
     },
     "execution_count": 22,
     "metadata": {},
     "output_type": "execute_result"
    }
   ],
   "source": [
    "df_enc.nunique()"
   ]
  },
  {
   "cell_type": "code",
   "execution_count": 23,
   "metadata": {},
   "outputs": [],
   "source": [
    "X_train, X_test, y_train, y_test = train_test_split(df_enc, y, test_size=0.2)"
   ]
  },
  {
   "cell_type": "code",
   "execution_count": 24,
   "metadata": {},
   "outputs": [
    {
     "data": {
      "text/plain": [
       "0.8413361169102297"
      ]
     },
     "execution_count": 24,
     "metadata": {},
     "output_type": "execute_result"
    }
   ],
   "source": [
    "lr = LogisticRegression()\n",
    "lr.fit(X_train, y_train)\n",
    "y_pred = lr.predict(X_test)\n",
    "accuracy_score(y_test, y_pred)"
   ]
  },
  {
   "cell_type": "code",
   "execution_count": 25,
   "metadata": {},
   "outputs": [],
   "source": [
    "def fit_tree(train, test, y_train, y_test, scaler, max_depth, \n",
    "             max_feature = 1, min_sample_split = 4, criterion = 'entropy'):\n",
    "    train_sc = scaler.fit_transform(train)\n",
    "    test_sc = scaler.tranform(test)\n",
    "    dt = DecisionTreeClassifier(max_depth = max_depth, max_feature = max_feature, min_sample_split = min_sample_split, criterion = criterion)\n",
    "    dt.fit(train_sc, y_train)\n",
    "    y_pred = dt.predict(test_sc)\n",
    "    print(accuracy_score(y_test, y_pred))\n",
    "    \n",
    "    "
   ]
  },
  {
   "cell_type": "code",
   "execution_count": 37,
   "metadata": {},
   "outputs": [],
   "source": [
    "def fit_predict(train, test, y_train, y_test, scaler, max_depth, \n",
    "                criterion = 'entropy', max_features = 1, min_samples_split = 4):\n",
    "    train_scaled = scaler.fit_transform(train)\n",
    "    test_scaled = scaler.transform(test)        \n",
    "    dt = DecisionTreeClassifier(criterion = criterion, max_depth=max_depth, \n",
    "                                random_state=42, max_features=max_features,\n",
    "                               min_samples_split=min_samples_split)\n",
    "    dt.fit(train_scaled, y_train)\n",
    "    y_pred = dt.predict(test_scaled)\n",
    "    print(accuracy_score(y_test, y_pred))\n",
    "    \n"
   ]
  },
  {
   "cell_type": "code",
   "execution_count": 35,
   "metadata": {},
   "outputs": [
    {
     "name": "stdout",
     "output_type": "stream",
     "text": [
      "0.732776617954071\n"
     ]
    }
   ],
   "source": [
    "tree = DecisionTreeClassifier()\n",
    "tree.fit(X_train, y_train)\n",
    "y_pred = tree.predict(X_test)\n",
    "print(accuracy_score(y_test, y_pred))"
   ]
  },
  {
   "cell_type": "markdown",
   "metadata": {},
   "source": [
    "### Max Depth Tuning"
   ]
  },
  {
   "cell_type": "code",
   "execution_count": 38,
   "metadata": {},
   "outputs": [
    {
     "name": "stdout",
     "output_type": "stream",
     "text": [
      "Accuracy using Max Depth = 1: 0.8408141962421712\n",
      "Accuracy using Max Depth = 2: 0.8408141962421712\n",
      "Accuracy using Max Depth = 3: 0.8408141962421712\n",
      "Accuracy using Max Depth = 4: 0.8408141962421712\n",
      "Accuracy using Max Depth = 5: 0.8413361169102297\n",
      "Accuracy using Max Depth = 6: 0.8329853862212944\n",
      "Accuracy using Max Depth = 7: 0.8382045929018789\n",
      "Accuracy using Max Depth = 8: 0.8293319415448852\n",
      "Accuracy using Max Depth = 9: 0.8256784968684759\n",
      "Accuracy using Max Depth = 10: 0.8209812108559499\n",
      "Accuracy using Max Depth = 11: 0.8178496868475992\n",
      "Accuracy using Max Depth = 12: 0.8225469728601252\n",
      "Accuracy using Max Depth = 13: 0.8147181628392485\n",
      "Accuracy using Max Depth = 14: 0.8131524008350731\n",
      "Accuracy using Max Depth = 15: 0.7990605427974948\n",
      "Accuracy using Max Depth = 16: 0.802713987473904\n",
      "Accuracy using Max Depth = 17: 0.7760960334029228\n",
      "Accuracy using Max Depth = 18: 0.8016701461377871\n",
      "Accuracy using Max Depth = 19: 0.7875782881002088\n",
      "Accuracy using Max Depth = 20: 0.7781837160751566\n",
      "Accuracy using Max Depth = 21: 0.7677453027139874\n",
      "Accuracy using Max Depth = 22: 0.778705636743215\n"
     ]
    }
   ],
   "source": [
    "max_depth = []\n",
    "for i in range(1, 23):\n",
    "    print(\"Accuracy using Max Depth =\", i, end = ': ')\n",
    "    fit_predict(X_train, X_test, y_train, y_test, StandardScaler(), i)\n",
    "\n",
    "#Print(\"Max Depth:\",max(max_depth))"
   ]
  },
  {
   "cell_type": "markdown",
   "metadata": {},
   "source": [
    "#### MaxDepth is 5, Accuracy is 0.8413361169102297\n",
    "Accuracy using Max Depth = 5: 0.8413361169102297"
   ]
  },
  {
   "cell_type": "markdown",
   "metadata": {},
   "source": [
    "## Max Features Split"
   ]
  },
  {
   "cell_type": "code",
   "execution_count": 39,
   "metadata": {},
   "outputs": [
    {
     "name": "stdout",
     "output_type": "stream",
     "text": [
      "Accuracy using Max Feature = 0.1: 0.8402922755741128\n",
      "Accuracy using Max Feature = 0.2: 0.8319415448851775\n",
      "Accuracy using Max Feature = 0.30000000000000004: 0.8392484342379958\n",
      "Accuracy using Max Feature = 0.4: 0.8387265135699373\n",
      "Accuracy using Max Feature = 0.5: 0.8366388308977035\n",
      "Accuracy using Max Feature = 0.6: 0.8335073068893528\n",
      "Accuracy using Max Feature = 0.7000000000000001: 0.8382045929018789\n",
      "Accuracy using Max Feature = 0.8: 0.837160751565762\n",
      "Accuracy using Max Feature = 0.9: 0.8308977035490606\n"
     ]
    }
   ],
   "source": [
    "for i in np.arange(0.1, 1.0, 0.1):\n",
    "    print(\"Accuracy using Max Feature =\", i, end = ': ')\n",
    "    fit_predict(X_train, X_test, y_train, y_test, StandardScaler(), max_depth = 5, max_features= i)"
   ]
  },
  {
   "cell_type": "markdown",
   "metadata": {},
   "source": [
    "#### Max Feature = 0.1, Accuracy is 0.840 which is 1 feature per tree that not possible.\n",
    "###### Also the accuracy is reduced when controling Max Feature Split.\n",
    "###### So not using this parameter.\n",
    "\n",
    "## Min Sample Split"
   ]
  },
  {
   "cell_type": "code",
   "execution_count": 46,
   "metadata": {},
   "outputs": [
    {
     "name": "stdout",
     "output_type": "stream",
     "text": [
      "Accuracy using Min Sample Split = 2: 0.8413361169102297\n",
      "Accuracy using Min Sample Split = 3: 0.8413361169102297\n",
      "Accuracy using Min Sample Split = 4: 0.8413361169102297\n",
      "Accuracy using Min Sample Split = 5: 0.8413361169102297\n",
      "Accuracy using Min Sample Split = 6: 0.8413361169102297\n",
      "Accuracy using Min Sample Split = 7: 0.8413361169102297\n",
      "Accuracy using Min Sample Split = 8: 0.8413361169102297\n",
      "Accuracy using Min Sample Split = 9: 0.8413361169102297\n"
     ]
    }
   ],
   "source": [
    "for i in range(2, 10):\n",
    "    print(\"Accuracy using Min Sample Split =\", i, end = ': ')\n",
    "    fit_predict(X_train, X_test, y_train, y_test, StandardScaler(), max_depth = 5, min_samples_split= i)\n"
   ]
  },
  {
   "cell_type": "markdown",
   "metadata": {},
   "source": [
    "#### Min Sample Split - For alll the values, it gives same result. So dont need to consider\n",
    "\n"
   ]
  },
  {
   "cell_type": "markdown",
   "metadata": {},
   "source": [
    "## Criterion tuning"
   ]
  },
  {
   "cell_type": "code",
   "execution_count": 47,
   "metadata": {},
   "outputs": [
    {
     "name": "stdout",
     "output_type": "stream",
     "text": [
      "Accuracy using Criterion = gini: 0.8413361169102297\n",
      "Accuracy using Criterion = entropy: 0.8413361169102297\n"
     ]
    }
   ],
   "source": [
    "# Using my original result\n",
    "for i in ['gini', 'entropy']:\n",
    "    print(\"Accuracy using Criterion =\", i, end = ': ')\n",
    "    fit_predict(X_train, X_test, y_train, y_test, StandardScaler(), max_depth = 5, \n",
    "                criterion = i)"
   ]
  },
  {
   "cell_type": "markdown",
   "metadata": {},
   "source": [
    " #### Criterion - For alll the values, it gives same result. So dont need to consider"
   ]
  },
  {
   "cell_type": "code",
   "execution_count": 48,
   "metadata": {},
   "outputs": [],
   "source": [
    "def create_poly(train, test, degree):\n",
    "    poly = PolynomialFeatures(degree = degree)\n",
    "    train_poly = poly.fit_transform(train)\n",
    "    test_poly = poly.fit_transform(test)\n",
    "    return train_poly, test_poly"
   ]
  },
  {
   "cell_type": "code",
   "execution_count": 49,
   "metadata": {},
   "outputs": [
    {
     "name": "stdout",
     "output_type": "stream",
     "text": [
      "Polynomial Degree: 1\n",
      "0.837160751565762\n",
      "----------\n",
      "Polynomial Degree: 2\n",
      "0.8408141962421712\n",
      "----------\n",
      "Polynomial Degree: 3\n",
      "0.8408141962421712\n",
      "----------\n",
      "Polynomial Degree: 4\n",
      "0.837160751565762\n",
      "----------\n"
     ]
    }
   ],
   "source": [
    "for degree in [1, 2, 3, 4]:\n",
    "    train_poly, test_poly = create_poly(X_train, X_test, degree)\n",
    "    print('Polynomial Degree:', degree)\n",
    "    fit_predict(train_poly, test_poly, y_train, y_test, StandardScaler(), max_depth = 5)\n",
    "    print(10*'-')\n",
    "    \n",
    "train_poly, test_poly = create_poly(X_train, X_test, 2)"
   ]
  },
  {
   "cell_type": "code",
   "execution_count": 57,
   "metadata": {},
   "outputs": [
    {
     "name": "stdout",
     "output_type": "stream",
     "text": [
      "0.8408141962421712\n"
     ]
    }
   ],
   "source": [
    "\n",
    "train_poly, test_poly = create_poly(X_train, X_test, 2)\n",
    "\n",
    "fit_predict(train_poly, test_poly, y_train, y_test, StandardScaler(), max_depth = 5)\n"
   ]
  },
  {
   "cell_type": "markdown",
   "metadata": {},
   "source": [
    "#### With Polynomial, No improvement is there"
   ]
  },
  {
   "cell_type": "markdown",
   "metadata": {},
   "source": [
    "# Random Forest"
   ]
  },
  {
   "cell_type": "code",
   "execution_count": 50,
   "metadata": {},
   "outputs": [],
   "source": [
    "from sklearn.ensemble import RandomForestClassifier"
   ]
  },
  {
   "cell_type": "code",
   "execution_count": 51,
   "metadata": {},
   "outputs": [
    {
     "name": "stdout",
     "output_type": "stream",
     "text": [
      "RandomForest Accuracy: 0.8402922755741128\n"
     ]
    }
   ],
   "source": [
    "rf = RandomForestClassifier()\n",
    "rf.fit(X_train, y_train)\n",
    "y_pred = rf.predict(X_test)\n",
    "print(\"RandomForest Accuracy:\",accuracy_score(y_test, y_pred))"
   ]
  },
  {
   "cell_type": "code",
   "execution_count": 52,
   "metadata": {},
   "outputs": [
    {
     "data": {
      "text/plain": [
       "DecisionTreeClassifier(ccp_alpha=0.0, class_weight=None, criterion='gini',\n",
       "                       max_depth=None, max_features=None, max_leaf_nodes=None,\n",
       "                       min_impurity_decrease=0.0, min_impurity_split=None,\n",
       "                       min_samples_leaf=1, min_samples_split=2,\n",
       "                       min_weight_fraction_leaf=0.0, presort='deprecated',\n",
       "                       random_state=None, splitter='best')"
      ]
     },
     "execution_count": 52,
     "metadata": {},
     "output_type": "execute_result"
    }
   ],
   "source": [
    "rf.base_estimator"
   ]
  },
  {
   "cell_type": "code",
   "execution_count": 53,
   "metadata": {},
   "outputs": [],
   "source": [
    "from sklearn.model_selection import GridSearchCV"
   ]
  },
  {
   "cell_type": "code",
   "execution_count": 54,
   "metadata": {},
   "outputs": [],
   "source": [
    "params = {'n_estimators': [200,500,700], 'max_depth': [4, 5, 8], 'min_samples_leaf': [2, 3, 5]}"
   ]
  },
  {
   "cell_type": "code",
   "execution_count": 55,
   "metadata": {},
   "outputs": [],
   "source": [
    "gsv = GridSearchCV(rf, params, verbose = 3) "
   ]
  },
  {
   "cell_type": "code",
   "execution_count": 56,
   "metadata": {},
   "outputs": [
    {
     "name": "stdout",
     "output_type": "stream",
     "text": [
      "Fitting 5 folds for each of 27 candidates, totalling 135 fits\n",
      "[CV] max_depth=4, min_samples_leaf=2, n_estimators=200 ...............\n"
     ]
    },
    {
     "name": "stderr",
     "output_type": "stream",
     "text": [
      "[Parallel(n_jobs=1)]: Using backend SequentialBackend with 1 concurrent workers.\n"
     ]
    },
    {
     "name": "stdout",
     "output_type": "stream",
     "text": [
      "[CV]  max_depth=4, min_samples_leaf=2, n_estimators=200, score=0.840, total=   1.7s\n",
      "[CV] max_depth=4, min_samples_leaf=2, n_estimators=200 ...............\n"
     ]
    },
    {
     "name": "stderr",
     "output_type": "stream",
     "text": [
      "[Parallel(n_jobs=1)]: Done   1 out of   1 | elapsed:    1.6s remaining:    0.0s\n"
     ]
    },
    {
     "name": "stdout",
     "output_type": "stream",
     "text": [
      "[CV]  max_depth=4, min_samples_leaf=2, n_estimators=200, score=0.840, total=   1.7s\n",
      "[CV] max_depth=4, min_samples_leaf=2, n_estimators=200 ...............\n"
     ]
    },
    {
     "name": "stderr",
     "output_type": "stream",
     "text": [
      "[Parallel(n_jobs=1)]: Done   2 out of   2 | elapsed:    3.3s remaining:    0.0s\n"
     ]
    },
    {
     "name": "stdout",
     "output_type": "stream",
     "text": [
      "[CV]  max_depth=4, min_samples_leaf=2, n_estimators=200, score=0.840, total=   1.8s\n",
      "[CV] max_depth=4, min_samples_leaf=2, n_estimators=200 ...............\n",
      "[CV]  max_depth=4, min_samples_leaf=2, n_estimators=200, score=0.840, total=   1.7s\n",
      "[CV] max_depth=4, min_samples_leaf=2, n_estimators=200 ...............\n",
      "[CV]  max_depth=4, min_samples_leaf=2, n_estimators=200, score=0.839, total=   1.7s\n",
      "[CV] max_depth=4, min_samples_leaf=2, n_estimators=500 ...............\n",
      "[CV]  max_depth=4, min_samples_leaf=2, n_estimators=500, score=0.840, total=   4.3s\n",
      "[CV] max_depth=4, min_samples_leaf=2, n_estimators=500 ...............\n",
      "[CV]  max_depth=4, min_samples_leaf=2, n_estimators=500, score=0.840, total=   4.2s\n",
      "[CV] max_depth=4, min_samples_leaf=2, n_estimators=500 ...............\n",
      "[CV]  max_depth=4, min_samples_leaf=2, n_estimators=500, score=0.840, total=   4.1s\n",
      "[CV] max_depth=4, min_samples_leaf=2, n_estimators=500 ...............\n",
      "[CV]  max_depth=4, min_samples_leaf=2, n_estimators=500, score=0.840, total=   4.1s\n",
      "[CV] max_depth=4, min_samples_leaf=2, n_estimators=500 ...............\n",
      "[CV]  max_depth=4, min_samples_leaf=2, n_estimators=500, score=0.839, total=   4.3s\n",
      "[CV] max_depth=4, min_samples_leaf=2, n_estimators=700 ...............\n",
      "[CV]  max_depth=4, min_samples_leaf=2, n_estimators=700, score=0.840, total=   8.5s\n",
      "[CV] max_depth=4, min_samples_leaf=2, n_estimators=700 ...............\n",
      "[CV]  max_depth=4, min_samples_leaf=2, n_estimators=700, score=0.840, total=   8.9s\n",
      "[CV] max_depth=4, min_samples_leaf=2, n_estimators=700 ...............\n",
      "[CV]  max_depth=4, min_samples_leaf=2, n_estimators=700, score=0.840, total=   8.3s\n",
      "[CV] max_depth=4, min_samples_leaf=2, n_estimators=700 ...............\n",
      "[CV]  max_depth=4, min_samples_leaf=2, n_estimators=700, score=0.840, total=   6.0s\n",
      "[CV] max_depth=4, min_samples_leaf=2, n_estimators=700 ...............\n",
      "[CV]  max_depth=4, min_samples_leaf=2, n_estimators=700, score=0.839, total=   6.2s\n",
      "[CV] max_depth=4, min_samples_leaf=3, n_estimators=200 ...............\n",
      "[CV]  max_depth=4, min_samples_leaf=3, n_estimators=200, score=0.840, total=   1.7s\n",
      "[CV] max_depth=4, min_samples_leaf=3, n_estimators=200 ...............\n",
      "[CV]  max_depth=4, min_samples_leaf=3, n_estimators=200, score=0.840, total=   1.7s\n",
      "[CV] max_depth=4, min_samples_leaf=3, n_estimators=200 ...............\n",
      "[CV]  max_depth=4, min_samples_leaf=3, n_estimators=200, score=0.840, total=   1.9s\n",
      "[CV] max_depth=4, min_samples_leaf=3, n_estimators=200 ...............\n",
      "[CV]  max_depth=4, min_samples_leaf=3, n_estimators=200, score=0.840, total=   1.7s\n",
      "[CV] max_depth=4, min_samples_leaf=3, n_estimators=200 ...............\n",
      "[CV]  max_depth=4, min_samples_leaf=3, n_estimators=200, score=0.839, total=   1.8s\n",
      "[CV] max_depth=4, min_samples_leaf=3, n_estimators=500 ...............\n",
      "[CV]  max_depth=4, min_samples_leaf=3, n_estimators=500, score=0.840, total=   4.3s\n",
      "[CV] max_depth=4, min_samples_leaf=3, n_estimators=500 ...............\n",
      "[CV]  max_depth=4, min_samples_leaf=3, n_estimators=500, score=0.840, total=   4.3s\n",
      "[CV] max_depth=4, min_samples_leaf=3, n_estimators=500 ...............\n",
      "[CV]  max_depth=4, min_samples_leaf=3, n_estimators=500, score=0.840, total=   4.4s\n",
      "[CV] max_depth=4, min_samples_leaf=3, n_estimators=500 ...............\n",
      "[CV]  max_depth=4, min_samples_leaf=3, n_estimators=500, score=0.840, total=   4.3s\n",
      "[CV] max_depth=4, min_samples_leaf=3, n_estimators=500 ...............\n",
      "[CV]  max_depth=4, min_samples_leaf=3, n_estimators=500, score=0.839, total=   4.0s\n",
      "[CV] max_depth=4, min_samples_leaf=3, n_estimators=700 ...............\n",
      "[CV]  max_depth=4, min_samples_leaf=3, n_estimators=700, score=0.840, total=   6.3s\n",
      "[CV] max_depth=4, min_samples_leaf=3, n_estimators=700 ...............\n",
      "[CV]  max_depth=4, min_samples_leaf=3, n_estimators=700, score=0.840, total=   6.0s\n",
      "[CV] max_depth=4, min_samples_leaf=3, n_estimators=700 ...............\n",
      "[CV]  max_depth=4, min_samples_leaf=3, n_estimators=700, score=0.840, total=   5.9s\n",
      "[CV] max_depth=4, min_samples_leaf=3, n_estimators=700 ...............\n",
      "[CV]  max_depth=4, min_samples_leaf=3, n_estimators=700, score=0.840, total=   6.1s\n",
      "[CV] max_depth=4, min_samples_leaf=3, n_estimators=700 ...............\n",
      "[CV]  max_depth=4, min_samples_leaf=3, n_estimators=700, score=0.839, total=   6.2s\n",
      "[CV] max_depth=4, min_samples_leaf=5, n_estimators=200 ...............\n",
      "[CV]  max_depth=4, min_samples_leaf=5, n_estimators=200, score=0.840, total=   1.7s\n",
      "[CV] max_depth=4, min_samples_leaf=5, n_estimators=200 ...............\n",
      "[CV]  max_depth=4, min_samples_leaf=5, n_estimators=200, score=0.840, total=   1.7s\n",
      "[CV] max_depth=4, min_samples_leaf=5, n_estimators=200 ...............\n",
      "[CV]  max_depth=4, min_samples_leaf=5, n_estimators=200, score=0.840, total=   1.8s\n",
      "[CV] max_depth=4, min_samples_leaf=5, n_estimators=200 ...............\n",
      "[CV]  max_depth=4, min_samples_leaf=5, n_estimators=200, score=0.840, total=   1.8s\n",
      "[CV] max_depth=4, min_samples_leaf=5, n_estimators=200 ...............\n",
      "[CV]  max_depth=4, min_samples_leaf=5, n_estimators=200, score=0.839, total=   1.7s\n",
      "[CV] max_depth=4, min_samples_leaf=5, n_estimators=500 ...............\n",
      "[CV]  max_depth=4, min_samples_leaf=5, n_estimators=500, score=0.840, total=   4.4s\n",
      "[CV] max_depth=4, min_samples_leaf=5, n_estimators=500 ...............\n",
      "[CV]  max_depth=4, min_samples_leaf=5, n_estimators=500, score=0.840, total=   4.5s\n",
      "[CV] max_depth=4, min_samples_leaf=5, n_estimators=500 ...............\n",
      "[CV]  max_depth=4, min_samples_leaf=5, n_estimators=500, score=0.840, total=   4.4s\n",
      "[CV] max_depth=4, min_samples_leaf=5, n_estimators=500 ...............\n",
      "[CV]  max_depth=4, min_samples_leaf=5, n_estimators=500, score=0.840, total=   4.4s\n",
      "[CV] max_depth=4, min_samples_leaf=5, n_estimators=500 ...............\n",
      "[CV]  max_depth=4, min_samples_leaf=5, n_estimators=500, score=0.839, total=   4.3s\n",
      "[CV] max_depth=4, min_samples_leaf=5, n_estimators=700 ...............\n",
      "[CV]  max_depth=4, min_samples_leaf=5, n_estimators=700, score=0.840, total=   6.2s\n",
      "[CV] max_depth=4, min_samples_leaf=5, n_estimators=700 ...............\n",
      "[CV]  max_depth=4, min_samples_leaf=5, n_estimators=700, score=0.840, total=   6.1s\n",
      "[CV] max_depth=4, min_samples_leaf=5, n_estimators=700 ...............\n",
      "[CV]  max_depth=4, min_samples_leaf=5, n_estimators=700, score=0.840, total=   6.1s\n",
      "[CV] max_depth=4, min_samples_leaf=5, n_estimators=700 ...............\n",
      "[CV]  max_depth=4, min_samples_leaf=5, n_estimators=700, score=0.840, total=   6.2s\n",
      "[CV] max_depth=4, min_samples_leaf=5, n_estimators=700 ...............\n",
      "[CV]  max_depth=4, min_samples_leaf=5, n_estimators=700, score=0.839, total=   6.1s\n",
      "[CV] max_depth=5, min_samples_leaf=2, n_estimators=200 ...............\n",
      "[CV]  max_depth=5, min_samples_leaf=2, n_estimators=200, score=0.840, total=   1.9s\n",
      "[CV] max_depth=5, min_samples_leaf=2, n_estimators=200 ...............\n",
      "[CV]  max_depth=5, min_samples_leaf=2, n_estimators=200, score=0.839, total=   1.8s\n",
      "[CV] max_depth=5, min_samples_leaf=2, n_estimators=200 ...............\n",
      "[CV]  max_depth=5, min_samples_leaf=2, n_estimators=200, score=0.841, total=   1.7s\n",
      "[CV] max_depth=5, min_samples_leaf=2, n_estimators=200 ...............\n",
      "[CV]  max_depth=5, min_samples_leaf=2, n_estimators=200, score=0.840, total=   1.5s\n",
      "[CV] max_depth=5, min_samples_leaf=2, n_estimators=200 ...............\n",
      "[CV]  max_depth=5, min_samples_leaf=2, n_estimators=200, score=0.839, total=   1.8s\n",
      "[CV] max_depth=5, min_samples_leaf=2, n_estimators=500 ...............\n",
      "[CV]  max_depth=5, min_samples_leaf=2, n_estimators=500, score=0.840, total=   4.5s\n",
      "[CV] max_depth=5, min_samples_leaf=2, n_estimators=500 ...............\n",
      "[CV]  max_depth=5, min_samples_leaf=2, n_estimators=500, score=0.840, total=   4.6s\n",
      "[CV] max_depth=5, min_samples_leaf=2, n_estimators=500 ...............\n",
      "[CV]  max_depth=5, min_samples_leaf=2, n_estimators=500, score=0.840, total=   4.5s\n",
      "[CV] max_depth=5, min_samples_leaf=2, n_estimators=500 ...............\n",
      "[CV]  max_depth=5, min_samples_leaf=2, n_estimators=500, score=0.840, total=   4.5s\n",
      "[CV] max_depth=5, min_samples_leaf=2, n_estimators=500 ...............\n",
      "[CV]  max_depth=5, min_samples_leaf=2, n_estimators=500, score=0.839, total=   5.3s\n",
      "[CV] max_depth=5, min_samples_leaf=2, n_estimators=700 ...............\n"
     ]
    },
    {
     "name": "stdout",
     "output_type": "stream",
     "text": [
      "[CV]  max_depth=5, min_samples_leaf=2, n_estimators=700, score=0.840, total=   6.9s\n",
      "[CV] max_depth=5, min_samples_leaf=2, n_estimators=700 ...............\n",
      "[CV]  max_depth=5, min_samples_leaf=2, n_estimators=700, score=0.840, total=   6.8s\n",
      "[CV] max_depth=5, min_samples_leaf=2, n_estimators=700 ...............\n",
      "[CV]  max_depth=5, min_samples_leaf=2, n_estimators=700, score=0.840, total=   6.5s\n",
      "[CV] max_depth=5, min_samples_leaf=2, n_estimators=700 ...............\n",
      "[CV]  max_depth=5, min_samples_leaf=2, n_estimators=700, score=0.840, total=   6.5s\n",
      "[CV] max_depth=5, min_samples_leaf=2, n_estimators=700 ...............\n",
      "[CV]  max_depth=5, min_samples_leaf=2, n_estimators=700, score=0.839, total=   6.8s\n",
      "[CV] max_depth=5, min_samples_leaf=3, n_estimators=200 ...............\n",
      "[CV]  max_depth=5, min_samples_leaf=3, n_estimators=200, score=0.840, total=   1.9s\n",
      "[CV] max_depth=5, min_samples_leaf=3, n_estimators=200 ...............\n",
      "[CV]  max_depth=5, min_samples_leaf=3, n_estimators=200, score=0.840, total=   1.9s\n",
      "[CV] max_depth=5, min_samples_leaf=3, n_estimators=200 ...............\n",
      "[CV]  max_depth=5, min_samples_leaf=3, n_estimators=200, score=0.840, total=   2.0s\n",
      "[CV] max_depth=5, min_samples_leaf=3, n_estimators=200 ...............\n",
      "[CV]  max_depth=5, min_samples_leaf=3, n_estimators=200, score=0.840, total=   1.9s\n",
      "[CV] max_depth=5, min_samples_leaf=3, n_estimators=200 ...............\n",
      "[CV]  max_depth=5, min_samples_leaf=3, n_estimators=200, score=0.839, total=   1.8s\n",
      "[CV] max_depth=5, min_samples_leaf=3, n_estimators=500 ...............\n",
      "[CV]  max_depth=5, min_samples_leaf=3, n_estimators=500, score=0.840, total=   4.6s\n",
      "[CV] max_depth=5, min_samples_leaf=3, n_estimators=500 ...............\n",
      "[CV]  max_depth=5, min_samples_leaf=3, n_estimators=500, score=0.840, total=   4.5s\n",
      "[CV] max_depth=5, min_samples_leaf=3, n_estimators=500 ...............\n",
      "[CV]  max_depth=5, min_samples_leaf=3, n_estimators=500, score=0.840, total=   4.7s\n",
      "[CV] max_depth=5, min_samples_leaf=3, n_estimators=500 ...............\n",
      "[CV]  max_depth=5, min_samples_leaf=3, n_estimators=500, score=0.840, total=   4.8s\n",
      "[CV] max_depth=5, min_samples_leaf=3, n_estimators=500 ...............\n",
      "[CV]  max_depth=5, min_samples_leaf=3, n_estimators=500, score=0.839, total=   4.7s\n",
      "[CV] max_depth=5, min_samples_leaf=3, n_estimators=700 ...............\n",
      "[CV]  max_depth=5, min_samples_leaf=3, n_estimators=700, score=0.840, total=   6.7s\n",
      "[CV] max_depth=5, min_samples_leaf=3, n_estimators=700 ...............\n",
      "[CV]  max_depth=5, min_samples_leaf=3, n_estimators=700, score=0.840, total=   6.6s\n",
      "[CV] max_depth=5, min_samples_leaf=3, n_estimators=700 ...............\n",
      "[CV]  max_depth=5, min_samples_leaf=3, n_estimators=700, score=0.840, total=   6.7s\n",
      "[CV] max_depth=5, min_samples_leaf=3, n_estimators=700 ...............\n",
      "[CV]  max_depth=5, min_samples_leaf=3, n_estimators=700, score=0.840, total=   7.0s\n",
      "[CV] max_depth=5, min_samples_leaf=3, n_estimators=700 ...............\n",
      "[CV]  max_depth=5, min_samples_leaf=3, n_estimators=700, score=0.839, total=   8.3s\n",
      "[CV] max_depth=5, min_samples_leaf=5, n_estimators=200 ...............\n",
      "[CV]  max_depth=5, min_samples_leaf=5, n_estimators=200, score=0.840, total=   2.3s\n",
      "[CV] max_depth=5, min_samples_leaf=5, n_estimators=200 ...............\n",
      "[CV]  max_depth=5, min_samples_leaf=5, n_estimators=200, score=0.840, total=   2.6s\n",
      "[CV] max_depth=5, min_samples_leaf=5, n_estimators=200 ...............\n",
      "[CV]  max_depth=5, min_samples_leaf=5, n_estimators=200, score=0.840, total=   2.7s\n",
      "[CV] max_depth=5, min_samples_leaf=5, n_estimators=200 ...............\n",
      "[CV]  max_depth=5, min_samples_leaf=5, n_estimators=200, score=0.840, total=   2.5s\n",
      "[CV] max_depth=5, min_samples_leaf=5, n_estimators=200 ...............\n",
      "[CV]  max_depth=5, min_samples_leaf=5, n_estimators=200, score=0.839, total=   2.0s\n",
      "[CV] max_depth=5, min_samples_leaf=5, n_estimators=500 ...............\n",
      "[CV]  max_depth=5, min_samples_leaf=5, n_estimators=500, score=0.840, total=   5.4s\n",
      "[CV] max_depth=5, min_samples_leaf=5, n_estimators=500 ...............\n",
      "[CV]  max_depth=5, min_samples_leaf=5, n_estimators=500, score=0.840, total=   5.7s\n",
      "[CV] max_depth=5, min_samples_leaf=5, n_estimators=500 ...............\n",
      "[CV]  max_depth=5, min_samples_leaf=5, n_estimators=500, score=0.840, total=   6.3s\n",
      "[CV] max_depth=5, min_samples_leaf=5, n_estimators=500 ...............\n",
      "[CV]  max_depth=5, min_samples_leaf=5, n_estimators=500, score=0.840, total=   5.7s\n",
      "[CV] max_depth=5, min_samples_leaf=5, n_estimators=500 ...............\n",
      "[CV]  max_depth=5, min_samples_leaf=5, n_estimators=500, score=0.839, total=   5.6s\n",
      "[CV] max_depth=5, min_samples_leaf=5, n_estimators=700 ...............\n",
      "[CV]  max_depth=5, min_samples_leaf=5, n_estimators=700, score=0.840, total=   7.6s\n",
      "[CV] max_depth=5, min_samples_leaf=5, n_estimators=700 ...............\n",
      "[CV]  max_depth=5, min_samples_leaf=5, n_estimators=700, score=0.840, total=   3.0s\n",
      "[CV] max_depth=5, min_samples_leaf=5, n_estimators=700 ...............\n",
      "[CV]  max_depth=5, min_samples_leaf=5, n_estimators=700, score=0.840, total=   2.7s\n",
      "[CV] max_depth=5, min_samples_leaf=5, n_estimators=700 ...............\n",
      "[CV]  max_depth=5, min_samples_leaf=5, n_estimators=700, score=0.840, total=   2.7s\n",
      "[CV] max_depth=5, min_samples_leaf=5, n_estimators=700 ...............\n",
      "[CV]  max_depth=5, min_samples_leaf=5, n_estimators=700, score=0.839, total=   2.7s\n",
      "[CV] max_depth=8, min_samples_leaf=2, n_estimators=200 ...............\n",
      "[CV]  max_depth=8, min_samples_leaf=2, n_estimators=200, score=0.839, total=   1.0s\n",
      "[CV] max_depth=8, min_samples_leaf=2, n_estimators=200 ...............\n",
      "[CV]  max_depth=8, min_samples_leaf=2, n_estimators=200, score=0.839, total=   1.0s\n",
      "[CV] max_depth=8, min_samples_leaf=2, n_estimators=200 ...............\n",
      "[CV]  max_depth=8, min_samples_leaf=2, n_estimators=200, score=0.840, total=   1.1s\n",
      "[CV] max_depth=8, min_samples_leaf=2, n_estimators=200 ...............\n",
      "[CV]  max_depth=8, min_samples_leaf=2, n_estimators=200, score=0.841, total=   1.0s\n",
      "[CV] max_depth=8, min_samples_leaf=2, n_estimators=200 ...............\n",
      "[CV]  max_depth=8, min_samples_leaf=2, n_estimators=200, score=0.839, total=   1.0s\n",
      "[CV] max_depth=8, min_samples_leaf=2, n_estimators=500 ...............\n",
      "[CV]  max_depth=8, min_samples_leaf=2, n_estimators=500, score=0.839, total=   2.5s\n",
      "[CV] max_depth=8, min_samples_leaf=2, n_estimators=500 ...............\n",
      "[CV]  max_depth=8, min_samples_leaf=2, n_estimators=500, score=0.838, total=   2.7s\n",
      "[CV] max_depth=8, min_samples_leaf=2, n_estimators=500 ...............\n",
      "[CV]  max_depth=8, min_samples_leaf=2, n_estimators=500, score=0.841, total=   2.7s\n",
      "[CV] max_depth=8, min_samples_leaf=2, n_estimators=500 ...............\n",
      "[CV]  max_depth=8, min_samples_leaf=2, n_estimators=500, score=0.841, total=   2.7s\n",
      "[CV] max_depth=8, min_samples_leaf=2, n_estimators=500 ...............\n",
      "[CV]  max_depth=8, min_samples_leaf=2, n_estimators=500, score=0.839, total=   2.7s\n",
      "[CV] max_depth=8, min_samples_leaf=2, n_estimators=700 ...............\n",
      "[CV]  max_depth=8, min_samples_leaf=2, n_estimators=700, score=0.840, total=   3.8s\n",
      "[CV] max_depth=8, min_samples_leaf=2, n_estimators=700 ...............\n",
      "[CV]  max_depth=8, min_samples_leaf=2, n_estimators=700, score=0.838, total=   3.9s\n",
      "[CV] max_depth=8, min_samples_leaf=2, n_estimators=700 ...............\n",
      "[CV]  max_depth=8, min_samples_leaf=2, n_estimators=700, score=0.841, total=   3.8s\n",
      "[CV] max_depth=8, min_samples_leaf=2, n_estimators=700 ...............\n",
      "[CV]  max_depth=8, min_samples_leaf=2, n_estimators=700, score=0.841, total=   3.8s\n",
      "[CV] max_depth=8, min_samples_leaf=2, n_estimators=700 ...............\n",
      "[CV]  max_depth=8, min_samples_leaf=2, n_estimators=700, score=0.839, total=   4.0s\n",
      "[CV] max_depth=8, min_samples_leaf=3, n_estimators=200 ...............\n",
      "[CV]  max_depth=8, min_samples_leaf=3, n_estimators=200, score=0.840, total=   1.1s\n",
      "[CV] max_depth=8, min_samples_leaf=3, n_estimators=200 ...............\n",
      "[CV]  max_depth=8, min_samples_leaf=3, n_estimators=200, score=0.839, total=   1.0s\n",
      "[CV] max_depth=8, min_samples_leaf=3, n_estimators=200 ...............\n",
      "[CV]  max_depth=8, min_samples_leaf=3, n_estimators=200, score=0.840, total=   1.1s\n",
      "[CV] max_depth=8, min_samples_leaf=3, n_estimators=200 ...............\n"
     ]
    },
    {
     "name": "stdout",
     "output_type": "stream",
     "text": [
      "[CV]  max_depth=8, min_samples_leaf=3, n_estimators=200, score=0.841, total=   1.2s\n",
      "[CV] max_depth=8, min_samples_leaf=3, n_estimators=200 ...............\n",
      "[CV]  max_depth=8, min_samples_leaf=3, n_estimators=200, score=0.839, total=   1.2s\n",
      "[CV] max_depth=8, min_samples_leaf=3, n_estimators=500 ...............\n",
      "[CV]  max_depth=8, min_samples_leaf=3, n_estimators=500, score=0.840, total=   2.6s\n",
      "[CV] max_depth=8, min_samples_leaf=3, n_estimators=500 ...............\n",
      "[CV]  max_depth=8, min_samples_leaf=3, n_estimators=500, score=0.838, total=   2.8s\n",
      "[CV] max_depth=8, min_samples_leaf=3, n_estimators=500 ...............\n",
      "[CV]  max_depth=8, min_samples_leaf=3, n_estimators=500, score=0.840, total=   2.6s\n",
      "[CV] max_depth=8, min_samples_leaf=3, n_estimators=500 ...............\n",
      "[CV]  max_depth=8, min_samples_leaf=3, n_estimators=500, score=0.840, total=   2.6s\n",
      "[CV] max_depth=8, min_samples_leaf=3, n_estimators=500 ...............\n",
      "[CV]  max_depth=8, min_samples_leaf=3, n_estimators=500, score=0.839, total=   2.6s\n",
      "[CV] max_depth=8, min_samples_leaf=3, n_estimators=700 ...............\n",
      "[CV]  max_depth=8, min_samples_leaf=3, n_estimators=700, score=0.840, total=   3.7s\n",
      "[CV] max_depth=8, min_samples_leaf=3, n_estimators=700 ...............\n",
      "[CV]  max_depth=8, min_samples_leaf=3, n_estimators=700, score=0.838, total=   3.6s\n",
      "[CV] max_depth=8, min_samples_leaf=3, n_estimators=700 ...............\n",
      "[CV]  max_depth=8, min_samples_leaf=3, n_estimators=700, score=0.840, total=   3.6s\n",
      "[CV] max_depth=8, min_samples_leaf=3, n_estimators=700 ...............\n",
      "[CV]  max_depth=8, min_samples_leaf=3, n_estimators=700, score=0.839, total=   3.7s\n",
      "[CV] max_depth=8, min_samples_leaf=3, n_estimators=700 ...............\n",
      "[CV]  max_depth=8, min_samples_leaf=3, n_estimators=700, score=0.839, total=   3.7s\n",
      "[CV] max_depth=8, min_samples_leaf=5, n_estimators=200 ...............\n",
      "[CV]  max_depth=8, min_samples_leaf=5, n_estimators=200, score=0.840, total=   1.0s\n",
      "[CV] max_depth=8, min_samples_leaf=5, n_estimators=200 ...............\n",
      "[CV]  max_depth=8, min_samples_leaf=5, n_estimators=200, score=0.838, total=   1.1s\n",
      "[CV] max_depth=8, min_samples_leaf=5, n_estimators=200 ...............\n",
      "[CV]  max_depth=8, min_samples_leaf=5, n_estimators=200, score=0.840, total=   1.0s\n",
      "[CV] max_depth=8, min_samples_leaf=5, n_estimators=200 ...............\n",
      "[CV]  max_depth=8, min_samples_leaf=5, n_estimators=200, score=0.840, total=   1.0s\n",
      "[CV] max_depth=8, min_samples_leaf=5, n_estimators=200 ...............\n",
      "[CV]  max_depth=8, min_samples_leaf=5, n_estimators=200, score=0.839, total=   1.1s\n",
      "[CV] max_depth=8, min_samples_leaf=5, n_estimators=500 ...............\n",
      "[CV]  max_depth=8, min_samples_leaf=5, n_estimators=500, score=0.840, total=   2.6s\n",
      "[CV] max_depth=8, min_samples_leaf=5, n_estimators=500 ...............\n",
      "[CV]  max_depth=8, min_samples_leaf=5, n_estimators=500, score=0.838, total=   2.5s\n",
      "[CV] max_depth=8, min_samples_leaf=5, n_estimators=500 ...............\n",
      "[CV]  max_depth=8, min_samples_leaf=5, n_estimators=500, score=0.840, total=   2.5s\n",
      "[CV] max_depth=8, min_samples_leaf=5, n_estimators=500 ...............\n",
      "[CV]  max_depth=8, min_samples_leaf=5, n_estimators=500, score=0.840, total=   2.5s\n",
      "[CV] max_depth=8, min_samples_leaf=5, n_estimators=500 ...............\n",
      "[CV]  max_depth=8, min_samples_leaf=5, n_estimators=500, score=0.839, total=   2.6s\n",
      "[CV] max_depth=8, min_samples_leaf=5, n_estimators=700 ...............\n",
      "[CV]  max_depth=8, min_samples_leaf=5, n_estimators=700, score=0.840, total=   3.5s\n",
      "[CV] max_depth=8, min_samples_leaf=5, n_estimators=700 ...............\n",
      "[CV]  max_depth=8, min_samples_leaf=5, n_estimators=700, score=0.838, total=   3.6s\n",
      "[CV] max_depth=8, min_samples_leaf=5, n_estimators=700 ...............\n",
      "[CV]  max_depth=8, min_samples_leaf=5, n_estimators=700, score=0.840, total=   3.6s\n",
      "[CV] max_depth=8, min_samples_leaf=5, n_estimators=700 ...............\n",
      "[CV]  max_depth=8, min_samples_leaf=5, n_estimators=700, score=0.840, total=   3.7s\n",
      "[CV] max_depth=8, min_samples_leaf=5, n_estimators=700 ...............\n",
      "[CV]  max_depth=8, min_samples_leaf=5, n_estimators=700, score=0.839, total=   3.8s\n"
     ]
    },
    {
     "name": "stderr",
     "output_type": "stream",
     "text": [
      "[Parallel(n_jobs=1)]: Done 135 out of 135 | elapsed:  8.2min finished\n"
     ]
    },
    {
     "data": {
      "text/plain": [
       "GridSearchCV(cv=None, error_score=nan,\n",
       "             estimator=RandomForestClassifier(bootstrap=True, ccp_alpha=0.0,\n",
       "                                              class_weight=None,\n",
       "                                              criterion='gini', max_depth=None,\n",
       "                                              max_features='auto',\n",
       "                                              max_leaf_nodes=None,\n",
       "                                              max_samples=None,\n",
       "                                              min_impurity_decrease=0.0,\n",
       "                                              min_impurity_split=None,\n",
       "                                              min_samples_leaf=1,\n",
       "                                              min_samples_split=2,\n",
       "                                              min_weight_fraction_leaf=0.0,\n",
       "                                              n_estimators=100, n_jobs=None,\n",
       "                                              oob_score=False,\n",
       "                                              random_state=None, verbose=0,\n",
       "                                              warm_start=False),\n",
       "             iid='deprecated', n_jobs=None,\n",
       "             param_grid={'max_depth': [4, 5, 8], 'min_samples_leaf': [2, 3, 5],\n",
       "                         'n_estimators': [200, 500, 700]},\n",
       "             pre_dispatch='2*n_jobs', refit=True, return_train_score=False,\n",
       "             scoring=None, verbose=3)"
      ]
     },
     "execution_count": 56,
     "metadata": {},
     "output_type": "execute_result"
    }
   ],
   "source": [
    "gsv.fit(X_train, y_train)"
   ]
  },
  {
   "cell_type": "code",
   "execution_count": 58,
   "metadata": {},
   "outputs": [
    {
     "data": {
      "text/plain": [
       "RandomForestClassifier(bootstrap=True, ccp_alpha=0.0, class_weight=None,\n",
       "                       criterion='gini', max_depth=8, max_features='auto',\n",
       "                       max_leaf_nodes=None, max_samples=None,\n",
       "                       min_impurity_decrease=0.0, min_impurity_split=None,\n",
       "                       min_samples_leaf=2, min_samples_split=2,\n",
       "                       min_weight_fraction_leaf=0.0, n_estimators=700,\n",
       "                       n_jobs=None, oob_score=False, random_state=None,\n",
       "                       verbose=0, warm_start=False)"
      ]
     },
     "execution_count": 58,
     "metadata": {},
     "output_type": "execute_result"
    }
   ],
   "source": [
    "gsv.best_estimator_"
   ]
  },
  {
   "cell_type": "code",
   "execution_count": 65,
   "metadata": {},
   "outputs": [
    {
     "name": "stdout",
     "output_type": "stream",
     "text": [
      "RandomForest Accuracy: 0.8413361169102297\n"
     ]
    }
   ],
   "source": [
    "rf1 = RandomForestClassifier(bootstrap=True, ccp_alpha=0.0, class_weight=None,\n",
    "                       criterion='gini', max_depth=8, max_features='auto',\n",
    "                       max_leaf_nodes=None, max_samples=None,\n",
    "                       min_impurity_decrease=0.0, min_impurity_split=None,\n",
    "                       min_samples_leaf=2, min_samples_split=2,\n",
    "                       min_weight_fraction_leaf=0.0, n_estimators=700,\n",
    "                       n_jobs=None, oob_score=False, random_state=None,\n",
    "                       verbose=0, warm_start=False)\n",
    "rf1.fit(X_train, y_train)\n",
    "y_pred = rf1.predict(X_test)\n",
    "print(\"RandomForest Accuracy:\",accuracy_score(y_test, y_pred))"
   ]
  },
  {
   "cell_type": "markdown",
   "metadata": {},
   "source": [
    "#### Setting oob_score as True"
   ]
  },
  {
   "cell_type": "code",
   "execution_count": 66,
   "metadata": {},
   "outputs": [
    {
     "name": "stdout",
     "output_type": "stream",
     "text": [
      "RandomForest Accuracy: 0.8413361169102297\n"
     ]
    }
   ],
   "source": [
    "rf1 = RandomForestClassifier(bootstrap=True, ccp_alpha=0.0, class_weight=None,\n",
    "                       criterion='gini', max_depth=8, max_features='auto',\n",
    "                       max_leaf_nodes=None, max_samples=None,\n",
    "                       min_impurity_decrease=0.0, min_impurity_split=None,\n",
    "                       min_samples_leaf=2, min_samples_split=2,\n",
    "                       min_weight_fraction_leaf=0.0, n_estimators=700,\n",
    "                       n_jobs=None, oob_score=True, random_state=None,\n",
    "                       verbose=0, warm_start=False)\n",
    "rf1.fit(X_train, y_train)\n",
    "y_pred = rf1.predict(X_test)\n",
    "print(\"RandomForest Accuracy:\",accuracy_score(y_test, y_pred))"
   ]
  },
  {
   "cell_type": "code",
   "execution_count": 67,
   "metadata": {},
   "outputs": [],
   "source": [
    "feat_imp = rf1.feature_importances_"
   ]
  },
  {
   "cell_type": "code",
   "execution_count": 68,
   "metadata": {},
   "outputs": [
    {
     "data": {
      "text/plain": [
       "[(0.12196607960958421, 'int.rate'),\n",
       " (0.09860037227047395, 'installment'),\n",
       " (0.09426526405009682, 'inq.last.6mths'),\n",
       " (0.0908420874770092, 'log.annual.inc'),\n",
       " (0.08919218039898769, 'revol.util'),\n",
       " (0.08777742559150949, 'days.with.cr.line'),\n",
       " (0.08629727054611683, 'fico'),\n",
       " (0.07881970784749412, 'revol.bal'),\n",
       " (0.07719544090337155, 'dti'),\n",
       " (0.04460618791632248, 'credit.policy_0'),\n",
       " (0.04362376889014092, 'credit.policy_1'),\n",
       " (0.022037228309463232, 'purpose_small_business'),\n",
       " (0.013741412566059878, 'pub.rec'),\n",
       " (0.011510201870750457, 'delinq.2yrs'),\n",
       " (0.008996546730735385, 'purpose_debt_consolidation'),\n",
       " (0.00766818322729517, 'purpose_all_other'),\n",
       " (0.007191665203850025, 'purpose_home_improvement'),\n",
       " (0.006360392805998852, 'purpose_educational'),\n",
       " (0.005588727174827887, 'purpose_credit_card'),\n",
       " (0.0037198566099119726, 'purpose_major_purchase')]"
      ]
     },
     "execution_count": 68,
     "metadata": {},
     "output_type": "execute_result"
    }
   ],
   "source": [
    "sorted(list(zip(feat_imp, X_train.columns)), reverse=True)"
   ]
  },
  {
   "cell_type": "code",
   "execution_count": 79,
   "metadata": {},
   "outputs": [],
   "source": [
    "from sklearn.metrics import accuracy_score, classification_report, confusion_matrix,roc_auc_score, roc_curve"
   ]
  },
  {
   "cell_type": "markdown",
   "metadata": {},
   "source": [
    "## Confusion Matrix"
   ]
  },
  {
   "cell_type": "code",
   "execution_count": 80,
   "metadata": {},
   "outputs": [
    {
     "data": {
      "text/plain": [
       "array([[1611,    0],\n",
       "       [ 304,    1]], dtype=int64)"
      ]
     },
     "execution_count": 80,
     "metadata": {},
     "output_type": "execute_result"
    }
   ],
   "source": [
    "confusion_matrix(y_test, y_pred)"
   ]
  },
  {
   "cell_type": "code",
   "execution_count": 91,
   "metadata": {},
   "outputs": [
    {
     "name": "stdout",
     "output_type": "stream",
     "text": [
      "y_test.unique: [0 1]\n",
      "y.value_counts:\n",
      "0    8045\n",
      "1    1533\n",
      "Name: not.fully.paid, dtype: int64\n"
     ]
    }
   ],
   "source": [
    "print('y_test.unique:',y_test.unique())\n",
    "print('y.value_counts:')\n",
    "print(y.value_counts())"
   ]
  },
  {
   "cell_type": "markdown",
   "metadata": {},
   "source": [
    "##### In the Y column, it looks like comparatively there are very less data for 1 value.\n",
    "##### From the confusion matrix, you can see that 1 values are predicted wrongly as 0.\n",
    "##### Also it is risky that when a person who actually didnt pay the loan on time is predicted that he paid it. Here 304 such predictions were gone wrong that way which is risky. "
   ]
  },
  {
   "cell_type": "markdown",
   "metadata": {},
   "source": [
    "## ROC Curve & AUC Score"
   ]
  },
  {
   "cell_type": "code",
   "execution_count": 76,
   "metadata": {},
   "outputs": [
    {
     "name": "stdout",
     "output_type": "stream",
     "text": [
      "AUC: 0.70\n"
     ]
    }
   ],
   "source": [
    "pred_prob = rf1.predict_proba(X_test)\n",
    "probs = pred_prob[:, 1]\n",
    "\n",
    "auc = roc_auc_score(y_test, probs)\n",
    "print('AUC: %.2f' % auc)"
   ]
  },
  {
   "cell_type": "code",
   "execution_count": 81,
   "metadata": {},
   "outputs": [
    {
     "data": {
      "image/png": "[encoded data removed]",
      "text/plain": [
       "<Figure size 432x288 with 1 Axes>"
      ]
     },
     "metadata": {
      "needs_background": "light"
     },
     "output_type": "display_data"
    }
   ],
   "source": [
    "def plot_roc_curve(fpr, tpr):\n",
    "    plt.plot(fpr, tpr, color='orange', label='ROC')\n",
    "    plt.plot([0, 1], [0, 1], color='darkblue', linestyle='--')\n",
    "    plt.xlabel('False Positive Rate')\n",
    "    plt.ylabel('True Positive Rate')\n",
    "    plt.title('Receiver Operating Characteristic (ROC) Curve')\n",
    "    plt.legend()\n",
    "    plt.show()\n",
    "    \n",
    "fpr, tpr, thresholds = roc_curve(y_test, probs)\n",
    "plot_roc_curve(fpr, tpr)"
   ]
  },
  {
   "cell_type": "code",
   "execution_count": 83,
   "metadata": {},
   "outputs": [
    {
     "data": {
      "text/plain": [
       "0    8045\n",
       "1    1533\n",
       "Name: not.fully.paid, dtype: int64"
      ]
     },
     "execution_count": 83,
     "metadata": {},
     "output_type": "execute_result"
    }
   ],
   "source": [
    "y.value_counts()"
   ]
  },
  {
   "cell_type": "markdown",
   "metadata": {},
   "source": [
    "## Classification Report"
   ]
  },
  {
   "cell_type": "code",
   "execution_count": 86,
   "metadata": {},
   "outputs": [
    {
     "name": "stdout",
     "output_type": "stream",
     "text": [
      "              precision    recall  f1-score   support\n",
      "\n",
      "           0       0.84      1.00      0.91      1611\n",
      "           1       1.00      0.00      0.01       305\n",
      "\n",
      "    accuracy                           0.84      1916\n",
      "   macro avg       0.92      0.50      0.46      1916\n",
      "weighted avg       0.87      0.84      0.77      1916\n",
      "\n"
     ]
    }
   ],
   "source": [
    "print(classification_report(y_test, y_pred))"
   ]
  },
  {
   "cell_type": "markdown",
   "metadata": {},
   "source": [
    "#### From the above data, 0 values are almost predicted good. f1-score is 0.91\n",
    "#### But not the 1 values\n"
   ]
  },
  {
   "cell_type": "code",
   "execution_count": null,
   "metadata": {},
   "outputs": [],
   "source": []
  }
 ],
 "metadata": {
  "kernelspec": {
   "display_name": "Python 3",
   "language": "python",
   "name": "python3"
  },
  "language_info": {
   "codemirror_mode": {
    "name": "ipython",
    "version": 3
   },
   "file_extension": ".py",
   "mimetype": "text/x-python",
   "name": "python",
   "nbconvert_exporter": "python",
   "pygments_lexer": "ipython3",
   "version": "3.7.6"
  }
 },
 "nbformat": 4,
 "nbformat_minor": 4
}
